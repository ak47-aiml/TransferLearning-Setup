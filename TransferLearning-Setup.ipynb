{
 "cells": [
  {
   "cell_type": "markdown",
   "id": "62d85e48",
   "metadata": {},
   "source": [
    "# Transfer Learning Set Up"
   ]
  },
  {
   "cell_type": "markdown",
   "id": "0708ea4e",
   "metadata": {},
   "source": [
    "<font color='steelblue'>\n",
    "\n",
    "<font size = 5>\n",
    "Transfer Learning Dataset Set up<br><br>\n",
    "</font>\n",
    "\n",
    "</font>\n",
    "\n",
    "<font color='grey'>\n",
    "<font size = 4>\n",
    "    \n",
    "- Downloads required files for the course from Google Storage.<br>\n",
    "- `Zip file is downloaded into ../datasets folder`\n",
    "    \n",
    "</font>\n",
    "</font>"
   ]
  },
  {
   "cell_type": "markdown",
   "id": "45a417e8",
   "metadata": {},
   "source": [
    "## Download the dataset"
   ]
  },
  {
   "cell_type": "code",
   "execution_count": null,
   "id": "e64c8265",
   "metadata": {},
   "outputs": [],
   "source": [
    "import os\n",
    "import shutil"
   ]
  },
  {
   "cell_type": "code",
   "execution_count": null,
   "id": "a4d9c7ee",
   "metadata": {},
   "outputs": [],
   "source": [
    "currLoc = os.getcwd()\n",
    "currLoc"
   ]
  },
  {
   "cell_type": "code",
   "execution_count": null,
   "id": "99149131",
   "metadata": {},
   "outputs": [],
   "source": [
    "os.chdir(\"..\")\n",
    "cwd = os.getcwd()\n",
    "cwd"
   ]
  },
  {
   "cell_type": "code",
   "execution_count": null,
   "id": "285afb54",
   "metadata": {},
   "outputs": [],
   "source": [
    "filenames = next(os.walk(cwd), (None, None, []))[1]  # [] if no file\n",
    "filenames"
   ]
  },
  {
   "cell_type": "code",
   "execution_count": null,
   "id": "571f87cb",
   "metadata": {},
   "outputs": [],
   "source": [
    "path = cwd + \"/\" + \"datasets\"\n",
    "path"
   ]
  },
  {
   "cell_type": "raw",
   "id": "edc8ec40",
   "metadata": {},
   "source": [
    "path = cwd + \"/\" + \"datasets\"\n",
    "if \"datasets\" in filenames:\n",
    "    try:\n",
    "        shutil.rmtree(path)\n",
    "    except OSError as e:\n",
    "        print(e)\n",
    "        print(\"if not present it will throw exception\")\n",
    "    else:\n",
    "        print(f\"{path} deleted\")\n",
    "\n",
    "try:\n",
    "    os.mkdir(path)\n",
    "except OSError as e:\n",
    "    print(e)\n",
    "else:\n",
    "    print(f\"{path} created\")"
   ]
  },
  {
   "cell_type": "code",
   "execution_count": null,
   "id": "cd886efa",
   "metadata": {},
   "outputs": [],
   "source": [
    "filename = \"FoodClasses.zip\""
   ]
  },
  {
   "cell_type": "code",
   "execution_count": null,
   "id": "152caae5",
   "metadata": {},
   "outputs": [],
   "source": [
    "# delete the file if present\n",
    "fullpath = path + \"/\" + filename\n",
    "print(fullpath)\n",
    "try:\n",
    "    os.remove(fullpath)\n",
    "except OSError as e:\n",
    "    print(e)\n",
    "    print(\"if not present it will throw exception\")\n",
    "else:\n",
    "    print(f\"{fullpath} deleted\")\n",
    "\n",
    "unzipped = \"FoodClasses\"\n",
    "upath = path + \"/\" + unzipped\n",
    "try:\n",
    "    shutil.rmtree(upath)\n",
    "except OSError as e:\n",
    "    print(e)\n",
    "    print(\"if not present it will throw exception\")\n",
    "else:\n",
    "    print(f\"{upath} deleted\")"
   ]
  },
  {
   "cell_type": "code",
   "execution_count": null,
   "id": "9294ffca",
   "metadata": {},
   "outputs": [],
   "source": [
    "cmd = \"https://storage.googleapis.com/courses-datasets/AI-ML-Toolkit/\""
   ]
  },
  {
   "cell_type": "code",
   "execution_count": null,
   "id": "f7878680",
   "metadata": {},
   "outputs": [],
   "source": [
    "# download the dataset zip file\n",
    "dnfile = cmd + filename\n",
    "print(f\"downloading: {dnfile}\")\n",
    "!wget {dnfile} -NP {path}"
   ]
  },
  {
   "cell_type": "code",
   "execution_count": null,
   "id": "2d61b789",
   "metadata": {},
   "outputs": [],
   "source": [
    "fullpath"
   ]
  },
  {
   "cell_type": "code",
   "execution_count": null,
   "id": "43f7fb9c",
   "metadata": {},
   "outputs": [],
   "source": [
    "os.chdir(path)\n",
    "cwd = os.getcwd()\n",
    "cwd"
   ]
  },
  {
   "cell_type": "markdown",
   "id": "fddbc851",
   "metadata": {},
   "source": [
    "## Unzip the zip file into training and test folders"
   ]
  },
  {
   "cell_type": "code",
   "execution_count": null,
   "id": "2a52d1e5",
   "metadata": {},
   "outputs": [],
   "source": [
    "import zipfile\n",
    "zref = zipfile.ZipFile(fullpath, \"r\")\n",
    "zref.extractall()\n",
    "zref.close()"
   ]
  },
  {
   "cell_type": "code",
   "execution_count": null,
   "id": "10eb1c93",
   "metadata": {},
   "outputs": [],
   "source": [
    "# list the directories in dataset\n",
    "for dirpath, dirnames, filenames in os.walk(upath):\n",
    "    print(f\"{len(dirnames)} directores and {len(filenames)} images in '{dirpath}'\")"
   ]
  }
 ],
 "metadata": {
  "kernelspec": {
   "display_name": "Python 3 (ipykernel)",
   "language": "python",
   "name": "python3"
  },
  "language_info": {
   "codemirror_mode": {
    "name": "ipython",
    "version": 3
   },
   "file_extension": ".py",
   "mimetype": "text/x-python",
   "name": "python",
   "nbconvert_exporter": "python",
   "pygments_lexer": "ipython3",
   "version": "3.9.13"
  },
  "toc": {
   "base_numbering": 1,
   "nav_menu": {},
   "number_sections": false,
   "sideBar": true,
   "skip_h1_title": false,
   "title_cell": "Table of Contents",
   "title_sidebar": "Contents",
   "toc_cell": false,
   "toc_position": {},
   "toc_section_display": true,
   "toc_window_display": false
  }
 },
 "nbformat": 4,
 "nbformat_minor": 5
}
